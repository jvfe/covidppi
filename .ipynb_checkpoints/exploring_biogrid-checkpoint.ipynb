{
 "cells": [
  {
   "cell_type": "code",
   "execution_count": null,
   "metadata": {},
   "outputs": [],
   "source": [
    "import pandas as pd\n",
    "import networkx as nx\n",
    "import warnings\n",
    "warnings.filterwarnings('ignore')"
   ]
  },
  {
   "cell_type": "code",
   "execution_count": null,
   "metadata": {},
   "outputs": [],
   "source": [
    "interact = pd.read_table(\"BIOGRID-CORONAVIRUS-3.5.185.tab3.txt\")"
   ]
  },
  {
   "cell_type": "code",
   "execution_count": null,
   "metadata": {
    "scrolled": true
   },
   "outputs": [],
   "source": [
    "interact.columns"
   ]
  },
  {
   "cell_type": "code",
   "execution_count": null,
   "metadata": {},
   "outputs": [],
   "source": [
    "interact"
   ]
  },
  {
   "cell_type": "code",
   "execution_count": null,
   "metadata": {},
   "outputs": [],
   "source": [
    "interest = ['9606', '2697049']\n",
    "interact_subset = interact.query(\"`Organism ID Interactor A`.isin(@interest) & `Organism ID Interactor B`.isin(@interest)\")"
   ]
  },
  {
   "cell_type": "code",
   "execution_count": null,
   "metadata": {},
   "outputs": [],
   "source": [
    "cols = ['Organism ID Interactor A', 'Official Symbol Interactor A']\n",
    "interact_subset['Protein_A'] = interact_subset[cols].apply(lambda row: '_'.join(row.values.astype(str)), axis=1)\n",
    "\n",
    "cols = ['Organism ID Interactor B', 'Official Symbol Interactor B']\n",
    "interact_subset['Protein_B'] = interact_subset[cols].apply(lambda row: '_'.join(row.values.astype(str)), axis=1)"
   ]
  },
  {
   "cell_type": "code",
   "execution_count": null,
   "metadata": {},
   "outputs": [],
   "source": [
    "onlyInter = interact_subset[['Protein_A', 'Protein_B']]\n",
    "onlyInter"
   ]
  },
  {
   "cell_type": "code",
   "execution_count": null,
   "metadata": {},
   "outputs": [],
   "source": [
    "G=nx.from_pandas_edgelist(onlyInter, 'Protein_A', 'Protein_B')"
   ]
  },
  {
   "cell_type": "code",
   "execution_count": null,
   "metadata": {},
   "outputs": [],
   "source": [
    "degrees = dict(nx.degree(G))"
   ]
  },
  {
   "cell_type": "code",
   "execution_count": null,
   "metadata": {},
   "outputs": [],
   "source": [
    "for key, value in degrees.items():\n",
    "    degrees[key] = value*1.5"
   ]
  },
  {
   "cell_type": "code",
   "execution_count": null,
   "metadata": {},
   "outputs": [],
   "source": [
    "#And finally export it to a JSON format compatible with D3\n",
    "from networkx.readwrite import json_graph\n",
    "import json\n",
    "import re\n",
    "\n",
    "data = json_graph.node_link_data(G)\n",
    "for i in data['nodes']:\n",
    "    i['species'] = int(re.sub('\\_.*', '', i['id']))\n",
    "    accessor = i['id']\n",
    "    i['degree'] = degrees[accessor]\n",
    "    \n",
    "    \n",
    "#And then dump it in a file\n",
    "with open('biogrid.json', 'w') as fp:\n",
    "    json.dump(data, fp)"
   ]
  }
 ],
 "metadata": {
  "kernelspec": {
   "display_name": "Python 3",
   "language": "python",
   "name": "python3"
  },
  "language_info": {
   "codemirror_mode": {
    "name": "ipython",
    "version": 3
   },
   "file_extension": ".py",
   "mimetype": "text/x-python",
   "name": "python",
   "nbconvert_exporter": "python",
   "pygments_lexer": "ipython3",
   "version": "3.8.2"
  }
 },
 "nbformat": 4,
 "nbformat_minor": 4
}
